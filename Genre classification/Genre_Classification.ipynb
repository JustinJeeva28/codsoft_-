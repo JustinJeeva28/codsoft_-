{
 "cells": [
  {
   "cell_type": "markdown",
   "id": "3519af21-8430-4f22-b561-85dcc95e1674",
   "metadata": {},
   "source": [
    "# MOVIE GENRE CLASSIFICAITON USING SENTIMENT ANALYSIS"
   ]
  },
  {
   "cell_type": "markdown",
   "id": "29e97700-b572-4267-8149-5a20d0c75e96",
   "metadata": {},
   "source": [
    "### Importing the basic librarys"
   ]
  },
  {
   "cell_type": "code",
   "execution_count": 1,
   "id": "b84eaab4-7f5a-4a33-833c-acb99882a0bf",
   "metadata": {},
   "outputs": [],
   "source": [
    "import pandas as pd\n",
    "import numpy as np \n",
    "import matplotlib.pyplot as plt\n",
    "import warnings \n",
    "warnings.filterwarnings(action=\"ignore\")"
   ]
  },
  {
   "cell_type": "markdown",
   "id": "2f01e174-d599-4c63-bd9b-e76116390390",
   "metadata": {},
   "source": [
    "## 1. Loading the data\n",
    "### About the data: The data is a CSV file which contains the information about list of movies. It gives the Title, Genre and discription of the movies."
   ]
  },
  {
   "cell_type": "markdown",
   "id": "8499906a-e068-491d-92f1-6d7df7f59c87",
   "metadata": {},
   "source": [
    "## Training data"
   ]
  },
  {
   "cell_type": "code",
   "execution_count": 2,
   "id": "099fe47e-223a-45e4-a920-b2555d1d943a",
   "metadata": {},
   "outputs": [],
   "source": [
    "training_data = pd.read_csv('train_data.txt', sep=\":::\", names=[\"TITLE\", \"GENRE\", \"DESCRIPTION\"])"
   ]
  },
  {
   "cell_type": "code",
   "execution_count": 3,
   "id": "6da22950-7221-4ea7-b359-05fcf62918d1",
   "metadata": {},
   "outputs": [
    {
     "data": {
      "text/plain": [
       "(54214, 3)"
      ]
     },
     "execution_count": 3,
     "metadata": {},
     "output_type": "execute_result"
    }
   ],
   "source": [
    "training_data.shape"
   ]
  },
  {
   "cell_type": "code",
   "execution_count": 4,
   "id": "f6a4854d-093d-43f1-9ede-11b5583e94c2",
   "metadata": {},
   "outputs": [
    {
     "data": {
      "text/html": [
       "<div>\n",
       "<style scoped>\n",
       "    .dataframe tbody tr th:only-of-type {\n",
       "        vertical-align: middle;\n",
       "    }\n",
       "\n",
       "    .dataframe tbody tr th {\n",
       "        vertical-align: top;\n",
       "    }\n",
       "\n",
       "    .dataframe thead th {\n",
       "        text-align: right;\n",
       "    }\n",
       "</style>\n",
       "<table border=\"1\" class=\"dataframe\">\n",
       "  <thead>\n",
       "    <tr style=\"text-align: right;\">\n",
       "      <th></th>\n",
       "      <th>TITLE</th>\n",
       "      <th>GENRE</th>\n",
       "      <th>DESCRIPTION</th>\n",
       "    </tr>\n",
       "  </thead>\n",
       "  <tbody>\n",
       "    <tr>\n",
       "      <th>1</th>\n",
       "      <td>Oscar et la dame rose (2009)</td>\n",
       "      <td>drama</td>\n",
       "      <td>Listening in to a conversation between his do...</td>\n",
       "    </tr>\n",
       "    <tr>\n",
       "      <th>2</th>\n",
       "      <td>Cupid (1997)</td>\n",
       "      <td>thriller</td>\n",
       "      <td>A brother and sister with a past incestuous r...</td>\n",
       "    </tr>\n",
       "    <tr>\n",
       "      <th>3</th>\n",
       "      <td>Young, Wild and Wonderful (1980)</td>\n",
       "      <td>adult</td>\n",
       "      <td>As the bus empties the students for their fie...</td>\n",
       "    </tr>\n",
       "    <tr>\n",
       "      <th>4</th>\n",
       "      <td>The Secret Sin (1915)</td>\n",
       "      <td>drama</td>\n",
       "      <td>To help their unemployed father make ends mee...</td>\n",
       "    </tr>\n",
       "    <tr>\n",
       "      <th>5</th>\n",
       "      <td>The Unrecovered (2007)</td>\n",
       "      <td>drama</td>\n",
       "      <td>The film's title refers not only to the un-re...</td>\n",
       "    </tr>\n",
       "  </tbody>\n",
       "</table>\n",
       "</div>"
      ],
      "text/plain": [
       "                                TITLE       GENRE  \\\n",
       "1       Oscar et la dame rose (2009)       drama    \n",
       "2                       Cupid (1997)    thriller    \n",
       "3   Young, Wild and Wonderful (1980)       adult    \n",
       "4              The Secret Sin (1915)       drama    \n",
       "5             The Unrecovered (2007)       drama    \n",
       "\n",
       "                                         DESCRIPTION  \n",
       "1   Listening in to a conversation between his do...  \n",
       "2   A brother and sister with a past incestuous r...  \n",
       "3   As the bus empties the students for their fie...  \n",
       "4   To help their unemployed father make ends mee...  \n",
       "5   The film's title refers not only to the un-re...  "
      ]
     },
     "execution_count": 4,
     "metadata": {},
     "output_type": "execute_result"
    }
   ],
   "source": [
    "training_data.head()"
   ]
  },
  {
   "cell_type": "markdown",
   "id": "f3a2e261-9197-41bf-b389-fa2cf8986f13",
   "metadata": {},
   "source": [
    "## Test data"
   ]
  },
  {
   "cell_type": "code",
   "execution_count": 5,
   "id": "3d88614a-69c5-45fd-b056-dccfecb40edb",
   "metadata": {},
   "outputs": [],
   "source": [
    "test_data = pd.read_csv('test_data.txt', sep=\":::\", names = ['TITLE', 'DESCRIPTION'])"
   ]
  },
  {
   "cell_type": "code",
   "execution_count": 6,
   "id": "2f09619f-060c-42bf-8fee-ca460662707b",
   "metadata": {},
   "outputs": [
    {
     "data": {
      "text/plain": [
       "(54200, 2)"
      ]
     },
     "execution_count": 6,
     "metadata": {},
     "output_type": "execute_result"
    }
   ],
   "source": [
    "test_data.shape"
   ]
  },
  {
   "cell_type": "code",
   "execution_count": 7,
   "id": "cc75df30-377b-42ae-8f5a-14c52b14e27d",
   "metadata": {},
   "outputs": [
    {
     "data": {
      "text/html": [
       "<div>\n",
       "<style scoped>\n",
       "    .dataframe tbody tr th:only-of-type {\n",
       "        vertical-align: middle;\n",
       "    }\n",
       "\n",
       "    .dataframe tbody tr th {\n",
       "        vertical-align: top;\n",
       "    }\n",
       "\n",
       "    .dataframe thead th {\n",
       "        text-align: right;\n",
       "    }\n",
       "</style>\n",
       "<table border=\"1\" class=\"dataframe\">\n",
       "  <thead>\n",
       "    <tr style=\"text-align: right;\">\n",
       "      <th></th>\n",
       "      <th>TITLE</th>\n",
       "      <th>DESCRIPTION</th>\n",
       "    </tr>\n",
       "  </thead>\n",
       "  <tbody>\n",
       "    <tr>\n",
       "      <th>1</th>\n",
       "      <td>Edgar's Lunch (1998)</td>\n",
       "      <td>L.R. Brane loves his life - his car, his apar...</td>\n",
       "    </tr>\n",
       "    <tr>\n",
       "      <th>2</th>\n",
       "      <td>La guerra de papá (1977)</td>\n",
       "      <td>Spain, March 1964: Quico is a very naughty ch...</td>\n",
       "    </tr>\n",
       "    <tr>\n",
       "      <th>3</th>\n",
       "      <td>Off the Beaten Track (2010)</td>\n",
       "      <td>One year in the life of Albin and his family ...</td>\n",
       "    </tr>\n",
       "    <tr>\n",
       "      <th>4</th>\n",
       "      <td>Meu Amigo Hindu (2015)</td>\n",
       "      <td>His father has died, he hasn't spoken with hi...</td>\n",
       "    </tr>\n",
       "    <tr>\n",
       "      <th>5</th>\n",
       "      <td>Er nu zhai (1955)</td>\n",
       "      <td>Before he was known internationally as a mart...</td>\n",
       "    </tr>\n",
       "  </tbody>\n",
       "</table>\n",
       "</div>"
      ],
      "text/plain": [
       "                           TITLE  \\\n",
       "1          Edgar's Lunch (1998)    \n",
       "2      La guerra de papá (1977)    \n",
       "3   Off the Beaten Track (2010)    \n",
       "4        Meu Amigo Hindu (2015)    \n",
       "5             Er nu zhai (1955)    \n",
       "\n",
       "                                         DESCRIPTION  \n",
       "1   L.R. Brane loves his life - his car, his apar...  \n",
       "2   Spain, March 1964: Quico is a very naughty ch...  \n",
       "3   One year in the life of Albin and his family ...  \n",
       "4   His father has died, he hasn't spoken with hi...  \n",
       "5   Before he was known internationally as a mart...  "
      ]
     },
     "execution_count": 7,
     "metadata": {},
     "output_type": "execute_result"
    }
   ],
   "source": [
    "test_data.head()"
   ]
  },
  {
   "cell_type": "code",
   "execution_count": 43,
   "id": "6b7f64a3-dd6e-472b-bc37-5f8c4c97cda4",
   "metadata": {},
   "outputs": [
    {
     "data": {
      "image/png": "[encoded data removed]",
      "text/plain": [
       "<Figure size 640x480 with 1 Axes>"
      ]
     },
     "metadata": {},
     "output_type": "display_data"
    }
   ],
   "source": [
    "import seaborn as sns\n",
    "\n",
    "# Creating histogram\n",
    "sns.histplot(training_data['GENRE'], bins=5, kde=False, color='skyblue')\n",
    "\n",
    "# Adding labels and title\n",
    "plt.xlabel('Values')\n",
    "plt.ylabel('Frequency')\n",
    "plt.title('Histogram')\n",
    "\n",
    "# Show plot\n",
    "plt.show()\n"
   ]
  },
  {
   "cell_type": "markdown",
   "id": "2a57cbd7-9f0c-4cf5-90ac-2bd402fc184a",
   "metadata": {},
   "source": [
    "## 2. Tokenization\n",
    "### From the above visualization of the dataset we can understand the description of the movies can be used to predict the Genre of the movies. So lets tokenize it for sentiment analysis"
   ]
  },
  {
   "cell_type": "code",
   "execution_count": 8,
   "id": "b362803c-43e6-4bfb-bf4f-867046b56cb9",
   "metadata": {
    "scrolled": true
   },
   "outputs": [],
   "source": [
    "import re\n",
    "from nltk import word_tokenize"
   ]
  },
  {
   "cell_type": "code",
   "execution_count": 9,
   "id": "aeb4b855-107b-40f1-8364-9f049b6c1418",
   "metadata": {},
   "outputs": [],
   "source": [
    "def tokenize_description(description):\n",
    "    # Lowercase the description\n",
    "    description = description.lower()\n",
    "    # Remove non-alphanumeric characters\n",
    "    description = re.sub(r'[^a-zA-Z0-9\\s]', '', description)\n",
    "    # Tokenize the description\n",
    "    word_tokens = word_tokenize(description)\n",
    "    # Join the tokens back into a string\n",
    "    description = ' '.join(word_tokens)\n",
    "    return description"
   ]
  },
  {
   "cell_type": "code",
   "execution_count": 10,
   "id": "fa118392-c0cc-4716-befe-e921ad0c2d5f",
   "metadata": {},
   "outputs": [],
   "source": [
    "training_data['TokenizedData'] = training_data['DESCRIPTION'].apply(tokenize_description)\n",
    "test_data['TokenizedData'] = test_data['DESCRIPTION'].apply(tokenize_description)"
   ]
  },
  {
   "cell_type": "code",
   "execution_count": 11,
   "id": "61f4eaa7-6202-422e-8566-e200f35371cb",
   "metadata": {},
   "outputs": [
    {
     "data": {
      "text/html": [
       "<div>\n",
       "<style scoped>\n",
       "    .dataframe tbody tr th:only-of-type {\n",
       "        vertical-align: middle;\n",
       "    }\n",
       "\n",
       "    .dataframe tbody tr th {\n",
       "        vertical-align: top;\n",
       "    }\n",
       "\n",
       "    .dataframe thead th {\n",
       "        text-align: right;\n",
       "    }\n",
       "</style>\n",
       "<table border=\"1\" class=\"dataframe\">\n",
       "  <thead>\n",
       "    <tr style=\"text-align: right;\">\n",
       "      <th></th>\n",
       "      <th>TITLE</th>\n",
       "      <th>GENRE</th>\n",
       "      <th>DESCRIPTION</th>\n",
       "      <th>TokenizedData</th>\n",
       "    </tr>\n",
       "  </thead>\n",
       "  <tbody>\n",
       "    <tr>\n",
       "      <th>1</th>\n",
       "      <td>Oscar et la dame rose (2009)</td>\n",
       "      <td>drama</td>\n",
       "      <td>Listening in to a conversation between his do...</td>\n",
       "      <td>listening in to a conversation between his doc...</td>\n",
       "    </tr>\n",
       "    <tr>\n",
       "      <th>2</th>\n",
       "      <td>Cupid (1997)</td>\n",
       "      <td>thriller</td>\n",
       "      <td>A brother and sister with a past incestuous r...</td>\n",
       "      <td>a brother and sister with a past incestuous re...</td>\n",
       "    </tr>\n",
       "    <tr>\n",
       "      <th>3</th>\n",
       "      <td>Young, Wild and Wonderful (1980)</td>\n",
       "      <td>adult</td>\n",
       "      <td>As the bus empties the students for their fie...</td>\n",
       "      <td>as the bus empties the students for their fiel...</td>\n",
       "    </tr>\n",
       "    <tr>\n",
       "      <th>4</th>\n",
       "      <td>The Secret Sin (1915)</td>\n",
       "      <td>drama</td>\n",
       "      <td>To help their unemployed father make ends mee...</td>\n",
       "      <td>to help their unemployed father make ends meet...</td>\n",
       "    </tr>\n",
       "    <tr>\n",
       "      <th>5</th>\n",
       "      <td>The Unrecovered (2007)</td>\n",
       "      <td>drama</td>\n",
       "      <td>The film's title refers not only to the un-re...</td>\n",
       "      <td>the films title refers not only to the unrecov...</td>\n",
       "    </tr>\n",
       "  </tbody>\n",
       "</table>\n",
       "</div>"
      ],
      "text/plain": [
       "                                TITLE       GENRE  \\\n",
       "1       Oscar et la dame rose (2009)       drama    \n",
       "2                       Cupid (1997)    thriller    \n",
       "3   Young, Wild and Wonderful (1980)       adult    \n",
       "4              The Secret Sin (1915)       drama    \n",
       "5             The Unrecovered (2007)       drama    \n",
       "\n",
       "                                         DESCRIPTION  \\\n",
       "1   Listening in to a conversation between his do...   \n",
       "2   A brother and sister with a past incestuous r...   \n",
       "3   As the bus empties the students for their fie...   \n",
       "4   To help their unemployed father make ends mee...   \n",
       "5   The film's title refers not only to the un-re...   \n",
       "\n",
       "                                       TokenizedData  \n",
       "1  listening in to a conversation between his doc...  \n",
       "2  a brother and sister with a past incestuous re...  \n",
       "3  as the bus empties the students for their fiel...  \n",
       "4  to help their unemployed father make ends meet...  \n",
       "5  the films title refers not only to the unrecov...  "
      ]
     },
     "execution_count": 11,
     "metadata": {},
     "output_type": "execute_result"
    }
   ],
   "source": [
    "training_data.head()"
   ]
  },
  {
   "cell_type": "code",
   "execution_count": 12,
   "id": "ecd56949-6e6c-4578-8e14-25160becd354",
   "metadata": {},
   "outputs": [
    {
     "data": {
      "text/html": [
       "<div>\n",
       "<style scoped>\n",
       "    .dataframe tbody tr th:only-of-type {\n",
       "        vertical-align: middle;\n",
       "    }\n",
       "\n",
       "    .dataframe tbody tr th {\n",
       "        vertical-align: top;\n",
       "    }\n",
       "\n",
       "    .dataframe thead th {\n",
       "        text-align: right;\n",
       "    }\n",
       "</style>\n",
       "<table border=\"1\" class=\"dataframe\">\n",
       "  <thead>\n",
       "    <tr style=\"text-align: right;\">\n",
       "      <th></th>\n",
       "      <th>TITLE</th>\n",
       "      <th>DESCRIPTION</th>\n",
       "      <th>TokenizedData</th>\n",
       "    </tr>\n",
       "  </thead>\n",
       "  <tbody>\n",
       "    <tr>\n",
       "      <th>1</th>\n",
       "      <td>Edgar's Lunch (1998)</td>\n",
       "      <td>L.R. Brane loves his life - his car, his apar...</td>\n",
       "      <td>lr brane loves his life his car his apartment ...</td>\n",
       "    </tr>\n",
       "    <tr>\n",
       "      <th>2</th>\n",
       "      <td>La guerra de papá (1977)</td>\n",
       "      <td>Spain, March 1964: Quico is a very naughty ch...</td>\n",
       "      <td>spain march 1964 quico is a very naughty child...</td>\n",
       "    </tr>\n",
       "    <tr>\n",
       "      <th>3</th>\n",
       "      <td>Off the Beaten Track (2010)</td>\n",
       "      <td>One year in the life of Albin and his family ...</td>\n",
       "      <td>one year in the life of albin and his family o...</td>\n",
       "    </tr>\n",
       "    <tr>\n",
       "      <th>4</th>\n",
       "      <td>Meu Amigo Hindu (2015)</td>\n",
       "      <td>His father has died, he hasn't spoken with hi...</td>\n",
       "      <td>his father has died he hasnt spoken with his b...</td>\n",
       "    </tr>\n",
       "    <tr>\n",
       "      <th>5</th>\n",
       "      <td>Er nu zhai (1955)</td>\n",
       "      <td>Before he was known internationally as a mart...</td>\n",
       "      <td>before he was known internationally as a marti...</td>\n",
       "    </tr>\n",
       "  </tbody>\n",
       "</table>\n",
       "</div>"
      ],
      "text/plain": [
       "                           TITLE  \\\n",
       "1          Edgar's Lunch (1998)    \n",
       "2      La guerra de papá (1977)    \n",
       "3   Off the Beaten Track (2010)    \n",
       "4        Meu Amigo Hindu (2015)    \n",
       "5             Er nu zhai (1955)    \n",
       "\n",
       "                                         DESCRIPTION  \\\n",
       "1   L.R. Brane loves his life - his car, his apar...   \n",
       "2   Spain, March 1964: Quico is a very naughty ch...   \n",
       "3   One year in the life of Albin and his family ...   \n",
       "4   His father has died, he hasn't spoken with hi...   \n",
       "5   Before he was known internationally as a mart...   \n",
       "\n",
       "                                       TokenizedData  \n",
       "1  lr brane loves his life his car his apartment ...  \n",
       "2  spain march 1964 quico is a very naughty child...  \n",
       "3  one year in the life of albin and his family o...  \n",
       "4  his father has died he hasnt spoken with his b...  \n",
       "5  before he was known internationally as a marti...  "
      ]
     },
     "execution_count": 12,
     "metadata": {},
     "output_type": "execute_result"
    }
   ],
   "source": [
    "test_data.head()"
   ]
  },
  {
   "cell_type": "markdown",
   "id": "9f0d8f2f-a625-466e-a3fd-982f67df559f",
   "metadata": {},
   "source": [
    "## 3. VECTORIZATION OF DATA"
   ]
  },
  {
   "cell_type": "code",
   "execution_count": 13,
   "id": "6af27acd-1dd0-47c6-bb6a-0d7779544ea6",
   "metadata": {},
   "outputs": [],
   "source": [
    "from sklearn.feature_extraction.text import TfidfVectorizer\n",
    "vectorizer = TfidfVectorizer()\n",
    "vectorizer.fit(training_data['TokenizedData'])\n",
    "TFIDF_model = vectorizer.transform(training_data['TokenizedData'])\n",
    "TFIDF_model_test = vectorizer.transform(test_data['TokenizedData'])"
   ]
  },
  {
   "cell_type": "markdown",
   "id": "c42a3d8f-3a1e-44ad-91b3-2be41206af0d",
   "metadata": {},
   "source": [
    "## saving the vectorizer for further use"
   ]
  },
  {
   "cell_type": "code",
   "execution_count": 14,
   "id": "fbb37f6b-4574-4d93-a659-dbfb1bf1edbf",
   "metadata": {},
   "outputs": [
    {
     "data": {
      "text/plain": [
       "['Genre_vectorizer']"
      ]
     },
     "execution_count": 14,
     "metadata": {},
     "output_type": "execute_result"
    }
   ],
   "source": [
    "import joblib\n",
    "vectorizer_name = 'Genre_vectorizer'\n",
    "joblib.dump(vectorizer,vectorizer_name)"
   ]
  },
  {
   "cell_type": "markdown",
   "id": "1545e394-3869-4a02-bc22-a13acee0a5e9",
   "metadata": {},
   "source": [
    "# 4. Model selection and Training of the model"
   ]
  },
  {
   "cell_type": "code",
   "execution_count": 15,
   "id": "ced2667e-898b-4658-bbc7-1eee234bd0b7",
   "metadata": {},
   "outputs": [],
   "source": [
    "from sklearn.model_selection import train_test_split\n",
    "y = training_data['GENRE']\n",
    "X_train, X_test, Y_train, Y_test = train_test_split(TFIDF_model, y, test_size= 0.25, random_state=12)"
   ]
  },
  {
   "cell_type": "code",
   "execution_count": 16,
   "id": "08191ac3-cfa3-4774-9329-f0b554a4549c",
   "metadata": {},
   "outputs": [
    {
     "name": "stdout",
     "output_type": "stream",
     "text": [
      "Multinomial Naive Bayes Accuracy: 0.4469529290246422\n",
      "Classification Report for Multinomial Naive Bayes:\n",
      "                precision    recall  f1-score   support\n",
      "\n",
      "      action        0.00      0.00      0.00       342\n",
      "       adult        0.00      0.00      0.00       136\n",
      "   adventure        0.00      0.00      0.00       208\n",
      "   animation        0.00      0.00      0.00       140\n",
      "   biography        0.00      0.00      0.00        67\n",
      "      comedy        0.42      0.02      0.04      1864\n",
      "       crime        0.00      0.00      0.00       130\n",
      " documentary        0.55      0.90      0.68      3334\n",
      "       drama        0.38      0.89      0.53      3402\n",
      "      family        0.00      0.00      0.00       164\n",
      "     fantasy        0.00      0.00      0.00        77\n",
      "   game-show        0.00      0.00      0.00        49\n",
      "     history        0.00      0.00      0.00        54\n",
      "      horror        0.00      0.00      0.00       542\n",
      "       music        0.00      0.00      0.00       203\n",
      "     musical        0.00      0.00      0.00        61\n",
      "     mystery        0.00      0.00      0.00        81\n",
      "        news        0.00      0.00      0.00        43\n",
      "  reality-tv        0.00      0.00      0.00       211\n",
      "     romance        0.00      0.00      0.00       168\n",
      "      sci-fi        0.00      0.00      0.00       147\n",
      "       short        0.00      0.00      0.00      1239\n",
      "       sport        0.00      0.00      0.00       118\n",
      "   talk-show        0.00      0.00      0.00       109\n",
      "    thriller        0.00      0.00      0.00       384\n",
      "         war        0.00      0.00      0.00        26\n",
      "     western        0.00      0.00      0.00       255\n",
      "\n",
      "     accuracy                           0.45     13554\n",
      "    macro avg       0.05      0.07      0.05     13554\n",
      " weighted avg       0.29      0.45      0.31     13554\n",
      "\n"
     ]
    }
   ],
   "source": [
    "from sklearn.naive_bayes import MultinomialNB\n",
    "from sklearn.metrics import accuracy_score, classification_report\n",
    "\n",
    "# Create and train the Multinomial Naive Bayes classifier\n",
    "nb_classifier = MultinomialNB()\n",
    "nb_classifier.fit(X_train, Y_train)\n",
    "\n",
    "# Predict on the test set\n",
    "y_pred_nb = nb_classifier.predict(X_test)\n",
    "\n",
    "# Calculate accuracy and classification report\n",
    "accuracy_nb = accuracy_score(Y_test, y_pred_nb)\n",
    "report_nb = classification_report(Y_test, y_pred_nb)\n",
    "\n",
    "print(\"Multinomial Naive Bayes Accuracy:\", accuracy_nb)\n",
    "print(\"Classification Report for Multinomial Naive Bayes:\\n\", report_nb)\n"
   ]
  },
  {
   "cell_type": "code",
   "execution_count": 19,
   "id": "345e9ed0-ab5a-4728-903a-c27c37628ec8",
   "metadata": {},
   "outputs": [
    {
     "data": {
      "text/plain": [
       "['MultinomialNB_Genre_Model']"
      ]
     },
     "execution_count": 19,
     "metadata": {},
     "output_type": "execute_result"
    }
   ],
   "source": [
    "'''\n",
    "nmodel_name = 'MultinomialNB_Genre_Model'\n",
    "joblib.dump(nb_classifier,nmodel_name)\n",
    "'''"
   ]
  },
  {
   "cell_type": "code",
   "execution_count": 17,
   "id": "c6be3403-6f05-43a2-8567-6fdfbd901c8b",
   "metadata": {},
   "outputs": [
    {
     "name": "stdout",
     "output_type": "stream",
     "text": [
      "K-Nearest Neighbors Accuracy: 0.4228272096797993\n",
      "Classification Report for K-Nearest Neighbors:\n",
      "                precision    recall  f1-score   support\n",
      "\n",
      "      action        0.17      0.21      0.19       342\n",
      "       adult        0.27      0.27      0.27       136\n",
      "   adventure        0.21      0.15      0.18       208\n",
      "   animation        0.11      0.06      0.08       140\n",
      "   biography        0.06      0.03      0.04        67\n",
      "      comedy        0.30      0.27      0.28      1864\n",
      "       crime        0.05      0.02      0.02       130\n",
      " documentary        0.54      0.73      0.62      3334\n",
      "       drama        0.41      0.59      0.49      3402\n",
      "      family        0.17      0.05      0.08       164\n",
      "     fantasy        0.18      0.03      0.05        77\n",
      "   game-show        0.52      0.61      0.56        49\n",
      "     history        0.50      0.02      0.04        54\n",
      "      horror        0.44      0.27      0.34       542\n",
      "       music        0.60      0.28      0.38       203\n",
      "     musical        0.20      0.02      0.03        61\n",
      "     mystery        0.50      0.02      0.05        81\n",
      "        news        0.40      0.05      0.08        43\n",
      "  reality-tv        0.38      0.10      0.16       211\n",
      "     romance        0.19      0.03      0.05       168\n",
      "      sci-fi        0.35      0.08      0.13       147\n",
      "       short        0.28      0.12      0.17      1239\n",
      "       sport        0.69      0.31      0.42       118\n",
      "   talk-show        0.39      0.11      0.17       109\n",
      "    thriller        0.13      0.03      0.05       384\n",
      "         war        0.15      0.08      0.10        26\n",
      "     western        0.54      0.53      0.53       255\n",
      "\n",
      "     accuracy                           0.42     13554\n",
      "    macro avg       0.32      0.19      0.21     13554\n",
      " weighted avg       0.39      0.42      0.39     13554\n",
      "\n"
     ]
    }
   ],
   "source": [
    "from sklearn.neighbors import KNeighborsClassifier\n",
    "\n",
    "# Create and train the K-Nearest Neighbors classifier\n",
    "knn_classifier = KNeighborsClassifier()\n",
    "knn_classifier.fit(X_train, Y_train)\n",
    "\n",
    "# Predict on the test set\n",
    "y_pred_knn = knn_classifier.predict(X_test)\n",
    "\n",
    "# Calculate accuracy and classification report\n",
    "accuracy_knn = accuracy_score(Y_test, y_pred_knn)\n",
    "report_knn = classification_report(Y_test, y_pred_knn)\n",
    "\n",
    "print(\"K-Nearest Neighbors Accuracy:\", accuracy_knn)\n",
    "print(\"Classification Report for K-Nearest Neighbors:\\n\", report_knn)\n"
   ]
  },
  {
   "cell_type": "code",
   "execution_count": 20,
   "id": "5df4fcec-3d09-4177-af65-55f8d4154ba2",
   "metadata": {},
   "outputs": [
    {
     "data": {
      "text/plain": [
       "['knn_Genre_Model']"
      ]
     },
     "execution_count": 20,
     "metadata": {},
     "output_type": "execute_result"
    }
   ],
   "source": [
    "'''\n",
    "kmodel_name = 'knn_Genre_Model'\n",
    "joblib.dump(knn_classifier,kmodel_name)\n",
    "'''"
   ]
  },
  {
   "cell_type": "code",
   "execution_count": 40,
   "id": "ebb90914-7df8-498e-99cd-95a1f38c7186",
   "metadata": {},
   "outputs": [
    {
     "name": "stdout",
     "output_type": "stream",
     "text": [
      "Accuracy: 0.6012985096650435\n",
      "Classification Report:\n",
      "                precision    recall  f1-score   support\n",
      "\n",
      "      action        0.54      0.33      0.41       342\n",
      "       adult        0.67      0.40      0.50       136\n",
      "   adventure        0.68      0.21      0.32       208\n",
      "   animation        0.70      0.10      0.17       140\n",
      "   biography        0.00      0.00      0.00        67\n",
      "      comedy        0.55      0.60      0.57      1864\n",
      "       crime        0.33      0.02      0.03       130\n",
      " documentary        0.68      0.87      0.77      3334\n",
      "       drama        0.55      0.79      0.65      3402\n",
      "      family        0.53      0.10      0.16       164\n",
      "     fantasy        0.20      0.01      0.02        77\n",
      "   game-show        0.81      0.43      0.56        49\n",
      "     history        0.00      0.00      0.00        54\n",
      "      horror        0.69      0.58      0.63       542\n",
      "       music        0.73      0.43      0.54       203\n",
      "     musical        0.50      0.02      0.03        61\n",
      "     mystery        1.00      0.01      0.02        81\n",
      "        news        0.33      0.02      0.04        43\n",
      "  reality-tv        0.53      0.21      0.30       211\n",
      "     romance        0.00      0.00      0.00       168\n",
      "      sci-fi        0.52      0.24      0.33       147\n",
      "       short        0.51      0.30      0.38      1239\n",
      "       sport        0.79      0.29      0.42       118\n",
      "   talk-show        0.65      0.22      0.33       109\n",
      "    thriller        0.41      0.12      0.19       384\n",
      "         war        0.33      0.04      0.07        26\n",
      "     western        0.92      0.77      0.84       255\n",
      "\n",
      "     accuracy                           0.60     13554\n",
      "    macro avg       0.52      0.26      0.31     13554\n",
      " weighted avg       0.58      0.60      0.56     13554\n",
      "\n",
      "Time taken for training: 2292.495240688324 seconds\n"
     ]
    }
   ],
   "source": [
    "from sklearn.metrics import accuracy_score, classification_report\n",
    "from sklearn.svm import SVC\n",
    "import time\n",
    "\n",
    "SVC = SVC(kernel='linear')\n",
    "\n",
    "\n",
    "start_time_svc = time.time()\n",
    "SVC.fit(X_train,Y_train)\n",
    "end_time_svc = time.time()\n",
    "\n",
    "y_pred = SVC.predict(X_test)\n",
    "\n",
    "accuracy = accuracy_score(Y_test, y_pred)\n",
    "report = classification_report(Y_test, y_pred)\n",
    "\n",
    "print(\"Accuracy:\", accuracy)\n",
    "print(\"Classification Report:\\n\", report)\n",
    "\n",
    "print(\"Time taken for training:\", end_time_svc - start_time_svc, \"seconds\")"
   ]
  },
  {
   "cell_type": "code",
   "execution_count": 41,
   "id": "defd58b5-02ec-4182-9343-bb672ec10176",
   "metadata": {},
   "outputs": [
    {
     "data": {
      "text/plain": [
       "['SVC_Genre_Model']"
      ]
     },
     "execution_count": 41,
     "metadata": {},
     "output_type": "execute_result"
    }
   ],
   "source": [
    "'''\n",
    "model_name = 'SVC_Genre_Model'\n",
    "joblib.dump(SVC,model_name)\n",
    "'''"
   ]
  },
  {
   "cell_type": "markdown",
   "id": "57a3e15e-dd13-4ae3-bafb-5063a918da73",
   "metadata": {},
   "source": [
    "# 5. PREDICTION OF TEST DATASET FOR GENRE\n",
    "### I will be using SVC model to predict the GENRE since it has higher accuracy compared to other Models."
   ]
  },
  {
   "cell_type": "code",
   "execution_count": 42,
   "id": "05aebe26-01ce-455b-9d41-466763524ac3",
   "metadata": {},
   "outputs": [],
   "source": [
    "Test_predict = SVC.predict(TFIDF_model_test)"
   ]
  },
  {
   "cell_type": "code",
   "execution_count": 44,
   "id": "924b0682-3133-49e6-941c-d98d9cf80b76",
   "metadata": {},
   "outputs": [
    {
     "data": {
      "text/plain": [
       "array([' drama ', ' drama ', ' documentary ', ..., ' comedy ', ' drama ',\n",
       "       ' documentary '], dtype=object)"
      ]
     },
     "execution_count": 44,
     "metadata": {},
     "output_type": "execute_result"
    }
   ],
   "source": [
    "Test_predict"
   ]
  },
  {
   "cell_type": "code",
   "execution_count": 45,
   "id": "ee46dbf9-ba9b-4508-be83-d7177c70e276",
   "metadata": {},
   "outputs": [],
   "source": [
    "test_data['GENRE']= Test_predict"
   ]
  },
  {
   "cell_type": "code",
   "execution_count": 46,
   "id": "4e75479e-f174-4459-8153-861444073338",
   "metadata": {},
   "outputs": [
    {
     "data": {
      "text/html": [
       "<div>\n",
       "<style scoped>\n",
       "    .dataframe tbody tr th:only-of-type {\n",
       "        vertical-align: middle;\n",
       "    }\n",
       "\n",
       "    .dataframe tbody tr th {\n",
       "        vertical-align: top;\n",
       "    }\n",
       "\n",
       "    .dataframe thead th {\n",
       "        text-align: right;\n",
       "    }\n",
       "</style>\n",
       "<table border=\"1\" class=\"dataframe\">\n",
       "  <thead>\n",
       "    <tr style=\"text-align: right;\">\n",
       "      <th></th>\n",
       "      <th>TITLE</th>\n",
       "      <th>DESCRIPTION</th>\n",
       "      <th>TokenizedData</th>\n",
       "      <th>GENRE</th>\n",
       "    </tr>\n",
       "  </thead>\n",
       "  <tbody>\n",
       "    <tr>\n",
       "      <th>1</th>\n",
       "      <td>Edgar's Lunch (1998)</td>\n",
       "      <td>L.R. Brane loves his life - his car, his apar...</td>\n",
       "      <td>lr brane loves his life his car his apartment ...</td>\n",
       "      <td>drama</td>\n",
       "    </tr>\n",
       "    <tr>\n",
       "      <th>2</th>\n",
       "      <td>La guerra de papá (1977)</td>\n",
       "      <td>Spain, March 1964: Quico is a very naughty ch...</td>\n",
       "      <td>spain march 1964 quico is a very naughty child...</td>\n",
       "      <td>drama</td>\n",
       "    </tr>\n",
       "    <tr>\n",
       "      <th>3</th>\n",
       "      <td>Off the Beaten Track (2010)</td>\n",
       "      <td>One year in the life of Albin and his family ...</td>\n",
       "      <td>one year in the life of albin and his family o...</td>\n",
       "      <td>documentary</td>\n",
       "    </tr>\n",
       "    <tr>\n",
       "      <th>4</th>\n",
       "      <td>Meu Amigo Hindu (2015)</td>\n",
       "      <td>His father has died, he hasn't spoken with hi...</td>\n",
       "      <td>his father has died he hasnt spoken with his b...</td>\n",
       "      <td>drama</td>\n",
       "    </tr>\n",
       "    <tr>\n",
       "      <th>5</th>\n",
       "      <td>Er nu zhai (1955)</td>\n",
       "      <td>Before he was known internationally as a mart...</td>\n",
       "      <td>before he was known internationally as a marti...</td>\n",
       "      <td>drama</td>\n",
       "    </tr>\n",
       "  </tbody>\n",
       "</table>\n",
       "</div>"
      ],
      "text/plain": [
       "                           TITLE  \\\n",
       "1          Edgar's Lunch (1998)    \n",
       "2      La guerra de papá (1977)    \n",
       "3   Off the Beaten Track (2010)    \n",
       "4        Meu Amigo Hindu (2015)    \n",
       "5             Er nu zhai (1955)    \n",
       "\n",
       "                                         DESCRIPTION  \\\n",
       "1   L.R. Brane loves his life - his car, his apar...   \n",
       "2   Spain, March 1964: Quico is a very naughty ch...   \n",
       "3   One year in the life of Albin and his family ...   \n",
       "4   His father has died, he hasn't spoken with hi...   \n",
       "5   Before he was known internationally as a mart...   \n",
       "\n",
       "                                       TokenizedData          GENRE  \n",
       "1  lr brane loves his life his car his apartment ...         drama   \n",
       "2  spain march 1964 quico is a very naughty child...         drama   \n",
       "3  one year in the life of albin and his family o...   documentary   \n",
       "4  his father has died he hasnt spoken with his b...         drama   \n",
       "5  before he was known internationally as a marti...         drama   "
      ]
     },
     "execution_count": 46,
     "metadata": {},
     "output_type": "execute_result"
    }
   ],
   "source": [
    "test_data.head()"
   ]
  },
  {
   "cell_type": "markdown",
   "id": "3474f9c7-e457-408e-8af1-6f95f8adc814",
   "metadata": {},
   "source": [
    "### COMPARISTION WITH SOLUTION DATA"
   ]
  },
  {
   "cell_type": "code",
   "execution_count": 47,
   "id": "6e5fa512-41fc-4cad-8c02-40e1acf253b2",
   "metadata": {},
   "outputs": [],
   "source": [
    "test_df_sol = pd.read_csv('test_data_solution.txt', sep=\":::\", names=[\"TITLE\", \"GENRE\", \"DESCRIPTION\"])"
   ]
  },
  {
   "cell_type": "code",
   "execution_count": 48,
   "id": "0fd0ea34-8ab7-4244-be9f-c11a7a573054",
   "metadata": {},
   "outputs": [
    {
     "data": {
      "text/html": [
       "<div>\n",
       "<style scoped>\n",
       "    .dataframe tbody tr th:only-of-type {\n",
       "        vertical-align: middle;\n",
       "    }\n",
       "\n",
       "    .dataframe tbody tr th {\n",
       "        vertical-align: top;\n",
       "    }\n",
       "\n",
       "    .dataframe thead th {\n",
       "        text-align: right;\n",
       "    }\n",
       "</style>\n",
       "<table border=\"1\" class=\"dataframe\">\n",
       "  <thead>\n",
       "    <tr style=\"text-align: right;\">\n",
       "      <th></th>\n",
       "      <th>TITLE</th>\n",
       "      <th>GENRE</th>\n",
       "      <th>DESCRIPTION</th>\n",
       "    </tr>\n",
       "  </thead>\n",
       "  <tbody>\n",
       "    <tr>\n",
       "      <th>1</th>\n",
       "      <td>Edgar's Lunch (1998)</td>\n",
       "      <td>thriller</td>\n",
       "      <td>L.R. Brane loves his life - his car, his apar...</td>\n",
       "    </tr>\n",
       "    <tr>\n",
       "      <th>2</th>\n",
       "      <td>La guerra de papá (1977)</td>\n",
       "      <td>comedy</td>\n",
       "      <td>Spain, March 1964: Quico is a very naughty ch...</td>\n",
       "    </tr>\n",
       "    <tr>\n",
       "      <th>3</th>\n",
       "      <td>Off the Beaten Track (2010)</td>\n",
       "      <td>documentary</td>\n",
       "      <td>One year in the life of Albin and his family ...</td>\n",
       "    </tr>\n",
       "    <tr>\n",
       "      <th>4</th>\n",
       "      <td>Meu Amigo Hindu (2015)</td>\n",
       "      <td>drama</td>\n",
       "      <td>His father has died, he hasn't spoken with hi...</td>\n",
       "    </tr>\n",
       "    <tr>\n",
       "      <th>5</th>\n",
       "      <td>Er nu zhai (1955)</td>\n",
       "      <td>drama</td>\n",
       "      <td>Before he was known internationally as a mart...</td>\n",
       "    </tr>\n",
       "  </tbody>\n",
       "</table>\n",
       "</div>"
      ],
      "text/plain": [
       "                           TITLE          GENRE  \\\n",
       "1          Edgar's Lunch (1998)       thriller    \n",
       "2      La guerra de papá (1977)         comedy    \n",
       "3   Off the Beaten Track (2010)    documentary    \n",
       "4        Meu Amigo Hindu (2015)          drama    \n",
       "5             Er nu zhai (1955)          drama    \n",
       "\n",
       "                                         DESCRIPTION  \n",
       "1   L.R. Brane loves his life - his car, his apar...  \n",
       "2   Spain, March 1964: Quico is a very naughty ch...  \n",
       "3   One year in the life of Albin and his family ...  \n",
       "4   His father has died, he hasn't spoken with hi...  \n",
       "5   Before he was known internationally as a mart...  "
      ]
     },
     "execution_count": 48,
     "metadata": {},
     "output_type": "execute_result"
    }
   ],
   "source": [
    "test_df_sol.head()\n"
   ]
  },
  {
   "cell_type": "code",
   "execution_count": 50,
   "id": "d601f677-9ce3-4177-a52e-476c50ba4fbb",
   "metadata": {},
   "outputs": [],
   "source": [
    "test_sol = test_df_sol['GENRE']"
   ]
  },
  {
   "cell_type": "code",
   "execution_count": 51,
   "id": "6e5770ea-3e3e-47d2-9a56-2cf3780e70c2",
   "metadata": {},
   "outputs": [
    {
     "name": "stdout",
     "output_type": "stream",
     "text": [
      "Accuracy: 0.5953321033210333\n",
      "Classification Report:\n",
      "                precision    recall  f1-score   support\n",
      "\n",
      "      action        0.48      0.32      0.38      1314\n",
      "       adult        0.63      0.35      0.45       590\n",
      "   adventure        0.63      0.19      0.29       775\n",
      "   animation        0.58      0.09      0.15       498\n",
      "   biography        0.00      0.00      0.00       264\n",
      "      comedy        0.54      0.59      0.56      7446\n",
      "       crime        0.32      0.02      0.04       505\n",
      " documentary        0.68      0.87      0.76     13096\n",
      "       drama        0.55      0.78      0.64     13612\n",
      "      family        0.55      0.10      0.17       783\n",
      "     fantasy        0.44      0.03      0.06       322\n",
      "   game-show        0.89      0.59      0.71       193\n",
      "     history        0.00      0.00      0.00       243\n",
      "      horror        0.67      0.59      0.63      2204\n",
      "       music        0.69      0.48      0.57       731\n",
      "     musical        0.50      0.01      0.03       276\n",
      "     mystery        0.00      0.00      0.00       318\n",
      "        news        0.58      0.08      0.14       181\n",
      "  reality-tv        0.53      0.25      0.34       883\n",
      "     romance        0.00      0.00      0.00       672\n",
      "      sci-fi        0.57      0.31      0.40       646\n",
      "       short        0.52      0.31      0.38      5072\n",
      "       sport        0.76      0.28      0.41       431\n",
      "   talk-show        0.62      0.22      0.33       391\n",
      "    thriller        0.40      0.13      0.19      1590\n",
      "         war        1.00      0.05      0.10       132\n",
      "     western        0.93      0.77      0.84      1032\n",
      "\n",
      "     accuracy                           0.60     54200\n",
      "    macro avg       0.52      0.27      0.32     54200\n",
      " weighted avg       0.57      0.60      0.56     54200\n",
      "\n"
     ]
    }
   ],
   "source": [
    "accuracy = accuracy_score(test_sol, Test_predict)\n",
    "report = classification_report(test_sol, Test_predict)\n",
    "\n",
    "print(\"Accuracy:\", accuracy)\n",
    "print(\"Classification Report:\\n\", report)"
   ]
  }
 ],
 "metadata": {
  "kernelspec": {
   "display_name": "Python 3 (ipykernel)",
   "language": "python",
   "name": "python3"
  },
  "language_info": {
   "codemirror_mode": {
    "name": "ipython",
    "version": 3
   },
   "file_extension": ".py",
   "mimetype": "text/x-python",
   "name": "python",
   "nbconvert_exporter": "python",
   "pygments_lexer": "ipython3",
   "version": "3.11.3"
  }
 },
 "nbformat": 4,
 "nbformat_minor": 5
}
